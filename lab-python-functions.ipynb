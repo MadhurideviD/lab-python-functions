{
 "cells": [
  {
   "cell_type": "markdown",
   "id": "25d7736c-ba17-4aff-b6bb-66eba20fbf4e",
   "metadata": {},
   "source": [
    "# Lab | Functions"
   ]
  },
  {
   "cell_type": "markdown",
   "id": "0c581062-8967-4d93-b06e-62833222f930",
   "metadata": {
    "tags": []
   },
   "source": [
    "## Exercise: Managing Customer Orders with Functions\n",
    "\n",
    "In the previous exercise, you improved the code for managing customer orders by using loops and flow control. Now, let's take it a step further and refactor the code by introducing functions.\n",
    "\n",
    "Follow the steps below to complete the exercise:\n",
    "\n",
    "1. Define a function named `initialize_inventory` that takes `products` as a parameter. Inside the function, implement the code for initializing the inventory dictionary using a loop and user input.\n",
    "\n",
    "2. Define a function named `get_customer_orders` that takes no parameters. Inside the function, implement the code for prompting the user to enter the product names using a loop. The function should return the `customer_orders` set.\n",
    "\n",
    "3. Define a function named `update_inventory` that takes `customer_orders` and `inventory` as parameters. Inside the function, implement the code for updating the inventory dictionary based on the customer orders.\n",
    "\n",
    "4. Define a function named `calculate_order_statistics` that takes `customer_orders` and `products` as parameters. Inside the function, implement the code for calculating the order statistics (total products ordered, and percentage of unique products ordered). The function should return these values.\n",
    "\n",
    "5. Define a function named `print_order_statistics` that takes `order_statistics` as a parameter. Inside the function, implement the code for printing the order statistics.\n",
    "\n",
    "6. Define a function named `print_updated_inventory` that takes `inventory` as a parameter. Inside the function, implement the code for printing the updated inventory.\n",
    "\n",
    "7. Call the functions in the appropriate sequence to execute the program and manage customer orders.\n",
    "\n",
    "Hints for functions:\n",
    "\n",
    "- Consider the input parameters required for each function and their return values.\n",
    "- Utilize function parameters and return values to transfer data between functions.\n",
    "- Test your functions individually to ensure they work correctly.\n",
    "\n",
    "\n"
   ]
  },
  {
   "cell_type": "code",
   "execution_count": 11,
   "id": "8b9ebc18",
   "metadata": {},
   "outputs": [
    {
     "name": "stdout",
     "output_type": "stream",
     "text": [
      "Next\n",
      "2\n",
      "{'keychain', 'book'}\n",
      "Next\n",
      "1\n",
      "{'mug'}\n",
      "total products ordered : 2\n",
      "percentage of products ordered : 25.0%\n",
      "t-shirts : 5\n",
      "mug : 10\n",
      "hat : 15\n",
      "book : 19\n",
      "keychain : 24\n"
     ]
    }
   ],
   "source": [
    "def initialize_inventory(products):\n",
    "    products = [\"t-shirts\",\"mug\",\"hat\",\"book\",\"keychain\"]\n",
    "    inventory = {}\n",
    "    for product in products:\n",
    "        quantity = input(f\"Enter the quantity of {product}: \")\n",
    "        inventory[product] = int(quantity)\n",
    "     \n",
    "    return inventory    \n",
    "inventory = initialize_inventory('products')\n",
    "\n",
    "def get_customer_orders():\n",
    "    products = [\"t-shirts\",\"mug\",\"hat\",\"book\",\"keychain\"]\n",
    "    customer_orders = set()\n",
    "    while True:\n",
    "        order = input(f\"Enter the name of the product you want: \")\n",
    "        if order in products:\n",
    "            customer_orders.add(order)    \n",
    "            add =input(\"Do you want to add another product:'yes' or 'no'\").strip()\n",
    "            if add == \"yes\":\n",
    "                continue                    \n",
    "            else:\n",
    "                print(\"Next\")\n",
    "                break\n",
    "            \n",
    "    print(len(customer_orders)) \n",
    "    print(customer_orders)\n",
    "    return customer_orders\n",
    "customer_orders = get_customer_orders()\n",
    "\n",
    "\n",
    "def update_inventory(customer_orders,inventory):\n",
    "   for order in customer_orders:\n",
    "      if order in inventory and inventory[order] > 0:\n",
    "          inventory[order] -= 1\n",
    "      elif order in inventory:\n",
    "          print(\"out of stock\")\n",
    "      else:\n",
    "          print(\"Type a valid product in list\")       \n",
    "\n",
    "\n",
    "def calculate_order_statistics(customer_orders,products):\n",
    "    total_products_ordered = len(customer_orders)\n",
    "    percetage_ordered =((total_products_ordered)/len(products))*100\n",
    "    order_status = (total_products_ordered, round(percetage_ordered, 2))\n",
    "\n",
    "    return order_status\n",
    "order_status = calculate_order_statistics(customer_orders,'products')\n",
    "\n",
    "def print_order_statistics(order_status):     \n",
    "    print(f\"total products ordered : {order_status[0]}\")\n",
    "    print(f\"percentage of products ordered : {order_status[1]}%\")\n",
    "\n",
    "\n",
    "def print_updated_inventory(inventory):\n",
    "    for product,quantity in inventory.items():\n",
    "        print(f\"{product} : {quantity}\") \n",
    "\n",
    "def sales():\n",
    "    products = [\"t-shirts\",\"mug\",\"hat\",\"book\",\"keychain\"]\n",
    "\n",
    "    initialize_inventory(products)\n",
    "    get_customer_orders()\n",
    "    update_inventory(customer_orders,inventory)\n",
    "    calculate_order_statistics(customer_orders,products)\n",
    "    print_order_statistics(order_status)\n",
    "    print_updated_inventory(inventory)\n",
    "\n",
    "sales()\n"
   ]
  },
  {
   "cell_type": "code",
   "execution_count": null,
   "id": "cc157423",
   "metadata": {},
   "outputs": [],
   "source": []
  }
 ],
 "metadata": {
  "kernelspec": {
   "display_name": "base",
   "language": "python",
   "name": "python3"
  },
  "language_info": {
   "codemirror_mode": {
    "name": "ipython",
    "version": 3
   },
   "file_extension": ".py",
   "mimetype": "text/x-python",
   "name": "python",
   "nbconvert_exporter": "python",
   "pygments_lexer": "ipython3",
   "version": "3.12.7"
  }
 },
 "nbformat": 4,
 "nbformat_minor": 5
}
